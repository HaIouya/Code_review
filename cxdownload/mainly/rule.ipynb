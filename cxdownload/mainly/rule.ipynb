{
 "cells": [
  {
   "cell_type": "code",
   "execution_count": 2,
   "metadata": {},
   "outputs": [],
   "source": [
    "import pandas as pd\n",
    "import pandas as pd\n",
    "import tkinter as tk\n",
    "from tkinter import filedialog\n",
    "\n",
    "def filter_dataframe(df, job_name=None, province=None, start_time=None, end_time=None, top_n=None, sort_by=None):\n",
    "    # 初始化一个始终为真的过滤条件\n",
    "    filter_conditions = pd.Series(True, index=df.index)\n",
    "    \n",
    "    # 如果提供了job_name，添加到过滤条件\n",
    "    if job_name:\n",
    "        filter_conditions &= df['职位名称'] == job_name\n",
    "    \n",
    "    # 如果提供了province，添加到过滤条件\n",
    "    if province:\n",
    "        filter_conditions &= df['省'] == province\n",
    "    \n",
    "    # 如果提供了start_time，添加到过滤条件\n",
    "    if start_time:\n",
    "        filter_conditions &= df['日期'] >= start_time\n",
    "    \n",
    "    # 如果提供了end_time，添加到过滤条件\n",
    "    if end_time:\n",
    "        filter_conditions &= df['日期'] <= end_time\n",
    "    \n",
    "    # 应用过滤条件\n",
    "    filtered_df = df[filter_conditions]\n",
    "    \n",
    "    # 如果提供了sort_by，进行排序\n",
    "    if sort_by and sort_by in df.columns:\n",
    "        sorted_df = filtered_df.groupby(sort_by).size().reset_index(name='count').sort_values(by='count', ascending=False)\n",
    "        \n",
    "        # 如果提供了top_n，则返回前top_n个\n",
    "        if top_n:\n",
    "            return sorted_df.head(top_n)\n",
    "        else:\n",
    "            return sorted_df\n",
    "    else:\n",
    "        # 如果没有提供sort_by，直接返回过滤后的数据\n",
    "        return filtered_df\n",
    "\n",
    "\n",
    "\n",
    "df = pd.read_csv('clustered_jobs_with_0.9.csv')\n",
    "\n"
   ]
  },
  {
   "cell_type": "code",
   "execution_count": null,
   "metadata": {},
   "outputs": [],
   "source": []
  }
 ],
 "metadata": {
  "kernelspec": {
   "display_name": "llama",
   "language": "python",
   "name": "python3"
  },
  "language_info": {
   "codemirror_mode": {
    "name": "ipython",
    "version": 3
   },
   "file_extension": ".py",
   "mimetype": "text/x-python",
   "name": "python",
   "nbconvert_exporter": "python",
   "pygments_lexer": "ipython3",
   "version": "3.10.14"
  }
 },
 "nbformat": 4,
 "nbformat_minor": 2
}
