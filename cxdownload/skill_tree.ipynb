{
 "cells": [
  {
   "cell_type": "code",
   "execution_count": 2,
   "metadata": {},
   "outputs": [
    {
     "ename": "RuntimeError",
     "evalue": "asyncio.run() cannot be called from a running event loop",
     "output_type": "error",
     "traceback": [
      "\u001b[0;31m---------------------------------------------------------------------------\u001b[0m",
      "\u001b[0;31mRuntimeError\u001b[0m                              Traceback (most recent call last)",
      "Cell \u001b[0;32mIn[2], line 80\u001b[0m\n\u001b[1;32m     78\u001b[0m \u001b[38;5;66;03m# 运行主函数\u001b[39;00m\n\u001b[1;32m     79\u001b[0m \u001b[38;5;28;01mif\u001b[39;00m \u001b[38;5;18m__name__\u001b[39m \u001b[38;5;241m==\u001b[39m \u001b[38;5;124m\"\u001b[39m\u001b[38;5;124m__main__\u001b[39m\u001b[38;5;124m\"\u001b[39m:\n\u001b[0;32m---> 80\u001b[0m     \u001b[43masyncio\u001b[49m\u001b[38;5;241;43m.\u001b[39;49m\u001b[43mrun\u001b[49m\u001b[43m(\u001b[49m\u001b[43mmain_async\u001b[49m\u001b[43m(\u001b[49m\u001b[43m)\u001b[49m\u001b[43m)\u001b[49m\n",
      "File \u001b[0;32m~/anaconda3/envs/GLM3/lib/python3.10/asyncio/runners.py:33\u001b[0m, in \u001b[0;36mrun\u001b[0;34m(main, debug)\u001b[0m\n\u001b[1;32m      9\u001b[0m \u001b[38;5;250m\u001b[39m\u001b[38;5;124;03m\"\"\"Execute the coroutine and return the result.\u001b[39;00m\n\u001b[1;32m     10\u001b[0m \n\u001b[1;32m     11\u001b[0m \u001b[38;5;124;03mThis function runs the passed coroutine, taking care of\u001b[39;00m\n\u001b[0;32m   (...)\u001b[0m\n\u001b[1;32m     30\u001b[0m \u001b[38;5;124;03m    asyncio.run(main())\u001b[39;00m\n\u001b[1;32m     31\u001b[0m \u001b[38;5;124;03m\"\"\"\u001b[39;00m\n\u001b[1;32m     32\u001b[0m \u001b[38;5;28;01mif\u001b[39;00m events\u001b[38;5;241m.\u001b[39m_get_running_loop() \u001b[38;5;129;01mis\u001b[39;00m \u001b[38;5;129;01mnot\u001b[39;00m \u001b[38;5;28;01mNone\u001b[39;00m:\n\u001b[0;32m---> 33\u001b[0m     \u001b[38;5;28;01mraise\u001b[39;00m \u001b[38;5;167;01mRuntimeError\u001b[39;00m(\n\u001b[1;32m     34\u001b[0m         \u001b[38;5;124m\"\u001b[39m\u001b[38;5;124masyncio.run() cannot be called from a running event loop\u001b[39m\u001b[38;5;124m\"\u001b[39m)\n\u001b[1;32m     36\u001b[0m \u001b[38;5;28;01mif\u001b[39;00m \u001b[38;5;129;01mnot\u001b[39;00m coroutines\u001b[38;5;241m.\u001b[39miscoroutine(main):\n\u001b[1;32m     37\u001b[0m     \u001b[38;5;28;01mraise\u001b[39;00m \u001b[38;5;167;01mValueError\u001b[39;00m(\u001b[38;5;124m\"\u001b[39m\u001b[38;5;124ma coroutine was expected, got \u001b[39m\u001b[38;5;132;01m{!r}\u001b[39;00m\u001b[38;5;124m\"\u001b[39m\u001b[38;5;241m.\u001b[39mformat(main))\n",
      "\u001b[0;31mRuntimeError\u001b[0m: asyncio.run() cannot be called from a running event loop"
     ]
    }
   ],
   "source": [
    "import concurrent.futures\n",
    "import csv\n",
    "import requests\n",
    "from tqdm import tqdm\n",
    "import json\n",
    "from concurrent.futures import ThreadPoolExecutor\n",
    "from queue import Queue\n",
    "\n",
    "\n",
    "\n",
    "def call_large_model_api(user_prompt, user_input):\n",
    "    url = 'https://u21829-bb5a-4d812fe5.westc.gpuhub.com:8443/v1/chat/completions'  # 请替换为实际的API URL\n",
    "    headers = {\n",
    "        'Content-Type': 'application/json',\n",
    "        # 请替换为实际的API密钥\n",
    "    }\n",
    "    data = {\n",
    "        \"model\": \"llama3\",\n",
    "        \"stream\": False,\n",
    "        \"temperature\": 0.01,\n",
    "        \"top_p\": 0.8,\n",
    "        \"do_sample\": True,\n",
    "        \"messages\": [\n",
    "            {\n",
    "                \"role\": \"system\",\n",
    "                \"content\": user_prompt\n",
    "            },\n",
    "            {\n",
    "                \"role\": \"user\",\n",
    "                \"content\": user_input\n",
    "            }\n",
    "        ]\n",
    "    }\n",
    "    \n",
    "    response = requests.post(url, json=data, headers=headers)\n",
    "    \n",
    "    return response\n",
    "\n",
    "\n",
    "\n",
    "\n",
    "\n",
    "# 处理每一行的函数\n",
    "def process_row(row, result_queue):\n",
    "    try:\n",
    "        json_data = {}\n",
    "        # 调用大模型API提取技术栈\n",
    "        prompt = f'我会给你一个json,例如：\"职位名称_1\":[\"数量\": num,\"技能\":[\"技能1\": skill_1, \"重要性\": times]]。然后给你一个 职位名称 + 职位描述 + 技能栈 。你需要把这个增添到我的json中，如果json中已经有相似的职位，则把 职位名称对应的数量+1，并且更新该职位中的技能，没有的置为1，有的就+1。最后只给我返回我需要的json ,不得生成其他文字。\\n职位名称：{row[0]}, 职位描述: {row[12]},技能栈：{row[18]}'\n",
    "        json_string = json.dumps(json_data)\n",
    "        \n",
    "        response = call_large_model_api(prompt, json_string)\n",
    "        skill = response.json()\n",
    "        result_queue.put([skill[\"choices\"][0][\"message\"][\"content\"]])\n",
    "        \n",
    "    except Exception as e:\n",
    "        print(f\"Error processing row: {e}\")\n",
    "\n",
    "# 主函数\n",
    "def main():\n",
    "    # 初始化队列\n",
    "    result_queue = Queue()\n",
    "    info = []\n",
    "\n",
    "    # 打开输入文件\n",
    "    with open('Boss直聘/Boss直聘_skills.csv', 'r', newline='', encoding='utf-8') as csvfile:\n",
    "        reader = csv.reader(csvfile)\n",
    "        next(reader)  # 跳过标题行\n",
    "\n",
    "        # 使用线程池并行处理数据\n",
    "        with ThreadPoolExecutor(max_workers=80) as executor:\n",
    "            # 提交所有任务\n",
    "            futures = [executor.submit(process_row, row, result_queue) for row in reader]\n",
    "\n",
    "            # 遍历future对象，获取结果\n",
    "            for future in tqdm(as_completed(futures), total=len(futures), desc=\"Processing rows\", unit=\"row\"):\n",
    "                # 等待任务完成并获取结果\n",
    "                info.append(result_queue.get())\n",
    "                \n",
    "    print(info)\n",
    "# 运行主函数\n",
    "if __name__ == \"__main__\":\n",
    "    main()\n"
   ]
  },
  {
   "cell_type": "code",
   "execution_count": null,
   "metadata": {},
   "outputs": [],
   "source": [
    "{'detail': [{'type': 'string_type', 'loc': ['body', 'messages', 1, 'content', 'str'], 'msg': 'Input should be a valid string', 'input': {'data': {'position_name': '后端开发工程师', 'job_description': '岗位职责：1. 负责完成产品/项目的软件需求文档编制、代码编写和功能测试工作；2. 负责维护产品/项目在使用过程中出现的问题；3. 负责给客户提供操作培训、实施；4. 负责整理归档设计资料。任职要求：1、24-28岁以内，本科以上学历计算机相关专业，2年以上工作经验，具有能源数字物联网平台相关模块的开发经验优先考虑；2、精通.NetCore , ASP.NET Core，net8开发，精通CS与BS架构开发；3. 熟悉多线程、异步编程等技术4、熟悉Linux环境下.net core运行的相关配置;5、熟悉Vue框架，了解Restful Api接口规范；6、至少精通一种数据库操作，例如SQL Server、Mysql；熟悉ORM,SqlSugar技术；具有TDengine数据经验优先考虑。7、英语四级以上；8、善于沟通和思考，富有责任心，拥有良好的团队合作精神。', 'skills_stack': '\\n任职资格：\\n1. 24-28岁以内，本科以上学历计算机相关专业，2年以上工作经验，具有能源数字物联网平台相关模块的开发经验优先考虑；\\n2. 精通.NetCore, ASP.NET Core, net8开发，精通CS与BS架构开发；\\n3. 熟悉多线程、异步编程等技术；\\n4. 熟悉Linux环境下.net core运行的相关配置；\\n5. 熟悉Vue框架，了解Restful Api接口规范；\\n6. 至少精通一种数据库操作，例如SQL Server、Mysql；熟悉ORM,SqlSugar技术；具有TDengine数据经验优先考虑；\\n7. 英语四级以上；\\n8. 善于沟通和思考，富有责任心，拥有良好的团队合作精神。'}, 'json': {}}}, {'type': 'list_type', 'loc': ['body', 'messages', 1, 'content', 'list[MultimodalInputItem]'], 'msg': 'Input should be a valid list', 'input': {'data': {'position_name': '后端开发工程师', 'job_description': '岗位职责：1. 负责完成产品/项目的软件需求文档编制、代码编写和功能测试工作；2. 负责维护产品/项目在使用过程中出现的问题；3. 负责给客户提供操作培训、实施；4. 负责整理归档设计资料。任职要求：1、24-28岁以内，本科以上学历计算机相关专业，2年以上工作经验，具有能源数字物联网平台相关模块的开发经验优先考虑；2、精通.NetCore , ASP.NET Core，net8开发，精通CS与BS架构开发；3. 熟悉多线程、异步编程等技术4、熟悉Linux环境下.net core运行的相关配置;5、熟悉Vue框架，了解Restful Api接口规范；6、至少精通一种数据库操作，例如SQL Server、Mysql；熟悉ORM,SqlSugar技术；具有TDengine数据经验优先考虑。7、英语四级以上；8、善于沟通和思考，富有责任心，拥有良好的团队合作精神。', 'skills_stack': '\\n任职资格：\\n1. 24-28岁以内，本科以上学历计算机相关专业，2年以上工作经验，具有能源数字物联网平台相关模块的开发经验优先考虑；\\n2. 精通.NetCore, ASP.NET Core, net8开发，精通CS与BS架构开发；\\n3. 熟悉多线程、异步编程等技术；\\n4. 熟悉Linux环境下.net core运行的相关配置；\\n5. 熟悉Vue框架，了解Restful Api接口规范；\\n6. 至少精通一种数据库操作，例如SQL Server、Mysql；熟悉ORM,SqlSugar技术；具有TDengine数据经验优先考虑；\\n7. 英语四级以上；\\n8. 善于沟通和思考，富有责任心，拥有良好的团队合作精神。'}, 'json': {}}}]}\n"
   ]
  }
 ],
 "metadata": {
  "kernelspec": {
   "display_name": "GLM3",
   "language": "python",
   "name": "python3"
  },
  "language_info": {
   "codemirror_mode": {
    "name": "ipython",
    "version": 3
   },
   "file_extension": ".py",
   "mimetype": "text/x-python",
   "name": "python",
   "nbconvert_exporter": "python",
   "pygments_lexer": "ipython3",
   "version": "3.10.12"
  }
 },
 "nbformat": 4,
 "nbformat_minor": 2
}
